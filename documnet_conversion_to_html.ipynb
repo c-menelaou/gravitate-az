{
 "cells": [
  {
   "cell_type": "code",
   "execution_count": 4,
   "id": "7e024a71-3d9c-43d4-bf66-6d2aedd005e4",
   "metadata": {},
   "outputs": [],
   "source": [
    "import os\n",
    "import shutil\n",
    "import sys\n",
    "import subprocess\n",
    "from tqdm import tqdm"
   ]
  },
  {
   "cell_type": "code",
   "execution_count": 5,
   "id": "e82dabb8-65ef-4fa8-84f2-d11eb2c280bf",
   "metadata": {},
   "outputs": [],
   "source": [
    "path = \"data/pdf\"\n",
    "out_path = \"data/html_full\""
   ]
  },
  {
   "cell_type": "code",
   "execution_count": 6,
   "id": "ca91545d-724b-459a-bebb-435524919fa1",
   "metadata": {},
   "outputs": [
    {
     "name": "stderr",
     "output_type": "stream",
     "text": [
      "100%|█████████████████████████████████████████████████████████████████████████████████████████████████████████████████████████████████████████████████████████████████████| 12/12 [00:05<00:00,  2.04it/s]\n"
     ]
    }
   ],
   "source": [
    "files = os.listdir(path)\n",
    "\n",
    "for file in tqdm(files):\n",
    "    file_type = file.split(\".\")[-1]\n",
    "    \n",
    "    file_path = os.path.join(path, file)\n",
    "    new_file_path = os.path.join(out_path, file.replace(file_type, \"html\"))\n",
    "    if file_type == \"doc\" or file_type == \"docx\":\n",
    "        subprocess.call([\n",
    "                    \"soffice\",\n",
    "                    \"--headless\",\n",
    "                    \"--invisible\",\n",
    "                    \"--convert-to\",\n",
    "                    \"html:XHTML Writer File:UTF8\",\n",
    "                    \"--outdir\",\n",
    "                    str(out_path),\n",
    "                    str(file_path),\n",
    "                ])\n",
    "    elif file_type == \"pdf\":\n",
    "        subprocess.call([\n",
    "                    \"pdftohtml\",\n",
    "                    \"-s\",\n",
    "                    \"-noframes\",\n",
    "                    \"-i\",\n",
    "                    \"-q\",\n",
    "                    str(file_path),\n",
    "                    str(new_file_path)\n",
    "                ])"
   ]
  },
  {
   "cell_type": "code",
   "execution_count": null,
   "id": "f26dcd8c-d372-42d2-af85-86f94a9852d0",
   "metadata": {},
   "outputs": [],
   "source": []
  }
 ],
 "metadata": {
  "kernelspec": {
   "display_name": "Python 3 (ipykernel)",
   "language": "python",
   "name": "python3"
  },
  "language_info": {
   "codemirror_mode": {
    "name": "ipython",
    "version": 3
   },
   "file_extension": ".py",
   "mimetype": "text/x-python",
   "name": "python",
   "nbconvert_exporter": "python",
   "pygments_lexer": "ipython3",
   "version": "3.9.7"
  }
 },
 "nbformat": 4,
 "nbformat_minor": 5
}
