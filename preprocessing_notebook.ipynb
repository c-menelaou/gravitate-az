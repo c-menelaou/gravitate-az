{
 "cells": [
  {
   "cell_type": "code",
   "execution_count": 3,
   "metadata": {},
   "outputs": [
    {
     "name": "stdout",
     "output_type": "stream",
     "text": [
      "Defaulting to user installation because normal site-packages is not writeable\n",
      "Requirement already satisfied: pdf-tools in c:\\users\\khsl332\\appdata\\roaming\\python\\python39\\site-packages (0.2.0)\n",
      "Requirement already satisfied: pymupdf==1.19.0 in c:\\users\\khsl332\\appdata\\roaming\\python\\python39\\site-packages (1.19.0)\n",
      "Requirement already satisfied: click in c:\\users\\khsl332\\appdata\\roaming\\python\\python39\\site-packages (from pdf-tools) (7.1.2)\n",
      "Requirement already satisfied: pillow in c:\\users\\khsl332\\appdata\\roaming\\python\\python39\\site-packages (from pdf-tools) (9.5.0)\n"
     ]
    },
    {
     "name": "stderr",
     "output_type": "stream",
     "text": [
      "The system cannot find the path specified.\n",
      "\n",
      "[notice] A new release of pip is available: 23.2.1 -> 23.3.2\n",
      "[notice] To update, run: python.exe -m pip install --upgrade pip\n"
     ]
    }
   ],
   "source": [
    "!pip install pdf-tools pymupdf==1.19.0"
   ]
  },
  {
   "cell_type": "code",
   "execution_count": 4,
   "metadata": {},
   "outputs": [],
   "source": [
    "import os \n",
    "import copy \n",
    "import re\n",
    "from dotenv import load_dotenv\n",
    "_ = load_dotenv()\n",
    "\n",
    "files = os.listdir('data/pdf')\n",
    "\n",
    "home_dir = os.path.abspath('.')\n",
    "\n",
    "tmp_data_path = os.path.join(home_dir, \"data\", \"full_html\")\n",
    "\n",
    "if not os.path.exists(tmp_data_path):\n",
    "    os.mkdir(tmp_data_path)\n",
    "\n",
    "for file in files:\n",
    "    html_name = os.path.join(\"data\", \"full_html\", file.replace(\"pdf\", \"html\"))\n",
    "    os.system(f\"{os.environ['pdf2html_path']} data\\\\pdf\\\\{file} > {html_name}\")\n",
    "\n",
    "    with open(html_name, \"r\") as f:\n",
    "        html_data = f.read()\n",
    "\n",
    "    trimmed_html_data = copy.copy(html_data)\n",
    "    all_div = re.findall(\"<div[^>]*?>[\\s\\S]*?</div>\", html_data)\n",
    "    annex_2_div = [idx for idx in range(len(all_div)) if 'ANNEX II' in all_div[idx]][0]\n",
    "\n",
    "    for div in all_div[annex_2_div:]:\n",
    "        trimmed_html_data = trimmed_html_data.replace(div, '')\n",
    "\n",
    "    output_file_name = html_name.replace(\"full_html\", \"html\")\n",
    "    with open(output_file_name,'w') as f_out:\n",
    "        f_out.write(trimmed_html_data)"
   ]
  }
 ],
 "metadata": {
  "interpreter": {
   "hash": "ac59ebe37160ed0dfa835113d9b8498d9f09ceb179beaac4002f036b9467c963"
  },
  "kernelspec": {
   "display_name": "Python 3.9.4 64-bit",
   "name": "python3"
  },
  "language_info": {
   "codemirror_mode": {
    "name": "ipython",
    "version": 3
   },
   "file_extension": ".py",
   "mimetype": "text/x-python",
   "name": "python",
   "nbconvert_exporter": "python",
   "pygments_lexer": "ipython3",
   "version": "3.9.4"
  },
  "orig_nbformat": 4
 },
 "nbformat": 4,
 "nbformat_minor": 2
}
